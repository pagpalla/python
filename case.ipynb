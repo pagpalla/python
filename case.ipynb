{
 "cells": [
  {
   "cell_type": "code",
   "execution_count": 1,
   "id": "ad0b6be1",
   "metadata": {},
   "outputs": [
    {
     "name": "stdout",
     "output_type": "stream",
     "text": [
      "    1 \n",
      "  * * \n",
      "2 3 4 \n",
      "    * \n",
      "  5 6 \n",
      " * * * \n"
     ]
    }
   ],
   "source": [
    "'''\n",
    "    1\n",
    "  * *\n",
    "2 3 4\n",
    "    *\n",
    "  5 6\n",
    "* * *\n",
    "'''\n",
    "def print_pattern():\n",
    "    for i in range (1,7):\n",
    "        if i == 1:\n",
    "            print(\"    1\",end=\" \")\n",
    "        elif i == 2:\n",
    "            print(\"  * *\",end=\" \")\n",
    "        elif i == 3:\n",
    "            print(\"2 3 4\",end=\" \")\n",
    "        elif i == 4:\n",
    "            print(\"    *\",end=\" \")\n",
    "        elif i == 5:\n",
    "             print(\"  5 6\",end=\" \")\n",
    "        else:\n",
    "            print(\" * * *\",end=\" \")\n",
    "        print()\n",
    "\n",
    "print_pattern()"
   ]
  },
  {
   "cell_type": "code",
   "execution_count": 2,
   "id": "8885e06d",
   "metadata": {},
   "outputs": [
    {
     "name": "stdout",
     "output_type": "stream",
     "text": [
      "error:age must be between 18 and 60 TO start a job\n"
     ]
    }
   ],
   "source": [
    "'''\n",
    "take age when user has started a job as a input from user \n",
    "if age<18 or age>60 raise error \n",
    "take age as input \n",
    "check condition\n",
    "if age <18 or age>60 raise error \n",
    "else find out how many year time have for doing job\n",
    "'''\n",
    "def job_duration():\n",
    "    try:\n",
    "        age = int(input(\"enter your age when you started the job:\"\n",
    "        \" \"))\n",
    "        if age <18 or age>60:\n",
    "            raise ValueError(\"age must be between 18 and 60 TO start a job\")\n",
    "        remaining_year=60-age\n",
    "        print(f'you have {remaining_year} years left to work')\n",
    "    except ValueError as e:\n",
    "        print (f\"error:{e}\")\n",
    "job_duration()\n",
    "\n"
   ]
  }
 ],
 "metadata": {
  "kernelspec": {
   "display_name": "base",
   "language": "python",
   "name": "python3"
  },
  "language_info": {
   "codemirror_mode": {
    "name": "ipython",
    "version": 3
   },
   "file_extension": ".py",
   "mimetype": "text/x-python",
   "name": "python",
   "nbconvert_exporter": "python",
   "pygments_lexer": "ipython3",
   "version": "3.12.7"
  }
 },
 "nbformat": 4,
 "nbformat_minor": 5
}
